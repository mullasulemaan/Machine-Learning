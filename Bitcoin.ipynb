{
  "nbformat": 4,
  "nbformat_minor": 0,
  "metadata": {
    "colab": {
      "name": "Bitcoin",
      "provenance": [],
      "authorship_tag": "ABX9TyN/Y4dlzWyEJLRtogmtajRD",
      "include_colab_link": true
    },
    "kernelspec": {
      "name": "python3",
      "display_name": "Python 3"
    },
    "accelerator": "GPU"
  },
  "cells": [
    {
      "cell_type": "markdown",
      "metadata": {
        "id": "view-in-github",
        "colab_type": "text"
      },
      "source": [
        "<a href=\"https://colab.research.google.com/github/mullasulemaan/Machine-Learning/blob/master/Bitcoin.ipynb\" target=\"_parent\"><img src=\"https://colab.research.google.com/assets/colab-badge.svg\" alt=\"Open In Colab\"/></a>"
      ]
    },
    {
      "cell_type": "code",
      "metadata": {
        "id": "TDiu1LOypimr",
        "colab_type": "code",
        "outputId": "3c848bc1-e7cd-4a3a-e163-e0c1a18a9510",
        "colab": {
          "base_uri": "https://localhost:8080/",
          "height": 122
        }
      },
      "source": [
        "from google.colab import drive\n",
        "drive.mount('/content/drive',force_remount=True)"
      ],
      "execution_count": 0,
      "outputs": [
        {
          "output_type": "stream",
          "text": [
            "Go to this URL in a browser: https://accounts.google.com/o/oauth2/auth?client_id=947318989803-6bn6qk8qdgf4n4g3pfee6491hc0brc4i.apps.googleusercontent.com&redirect_uri=urn%3aietf%3awg%3aoauth%3a2.0%3aoob&response_type=code&scope=email%20https%3a%2f%2fwww.googleapis.com%2fauth%2fdocs.test%20https%3a%2f%2fwww.googleapis.com%2fauth%2fdrive%20https%3a%2f%2fwww.googleapis.com%2fauth%2fdrive.photos.readonly%20https%3a%2f%2fwww.googleapis.com%2fauth%2fpeopleapi.readonly\n",
            "\n",
            "Enter your authorization code:\n",
            "··········\n",
            "Mounted at /content/drive\n"
          ],
          "name": "stdout"
        }
      ]
    },
    {
      "cell_type": "code",
      "metadata": {
        "id": "vzbrrtwAqRh4",
        "colab_type": "code",
        "outputId": "ea3211c8-b316-4036-b42b-3bad714eaf88",
        "colab": {
          "base_uri": "https://localhost:8080/",
          "height": 119
        }
      },
      "source": [
        "import pandas\n",
        "df=pandas.read_csv('/content/drive/My Drive/Classroom/ML Internship 1/Mulla Suleman - bitcoin.csv')\n",
        "df.head()\n",
        "df.count()"
      ],
      "execution_count": 0,
      "outputs": [
        {
          "output_type": "execute_result",
          "data": {
            "text/plain": [
              "Date     90\n",
              "Open     90\n",
              "High     90\n",
              "Low      90\n",
              "Close    90\n",
              "dtype: int64"
            ]
          },
          "metadata": {
            "tags": []
          },
          "execution_count": 2
        }
      ]
    },
    {
      "cell_type": "code",
      "metadata": {
        "id": "rlNNsZmPq0f2",
        "colab_type": "code",
        "outputId": "d45f42cd-333e-4422-e373-cd7af479b82c",
        "colab": {
          "base_uri": "https://localhost:8080/",
          "height": 119
        }
      },
      "source": [
        "df['Date'].fillna('Ukn',inplace=True)\n",
        "df.count()"
      ],
      "execution_count": 0,
      "outputs": [
        {
          "output_type": "execute_result",
          "data": {
            "text/plain": [
              "Date     455\n",
              "Open      90\n",
              "High      90\n",
              "Low       90\n",
              "Close     90\n",
              "dtype: int64"
            ]
          },
          "metadata": {
            "tags": []
          },
          "execution_count": 3
        }
      ]
    },
    {
      "cell_type": "code",
      "metadata": {
        "id": "w3GrrU5aq7fF",
        "colab_type": "code",
        "outputId": "70d5ab10-1766-47c1-f9d0-2f5c18c49f7a",
        "colab": {
          "base_uri": "https://localhost:8080/",
          "height": 952
        }
      },
      "source": [
        "import numpy as np\n",
        "a=np.array(df['Date'])\n",
        "date,a_count=np.unique(a,return_counts=True)\n",
        "print(a)\n",
        "print(a_count)"
      ],
      "execution_count": 0,
      "outputs": [
        {
          "output_type": "stream",
          "text": [
            "['01/01/2017' '02/01/2017' '03/01/2017' '04/01/2017' '05/01/2017'\n",
            " '06/01/2017' '07/01/2017' '08/01/2017' '09/01/2017' '10/01/2017'\n",
            " '11/01/2017' '12/01/2017' '13/01/2017' '14/01/2017' '15/01/2017'\n",
            " '16/01/2017' '17/01/2017' '18/01/2017' '19/01/2017' '20/01/2017'\n",
            " '21/01/2017' '22/01/2017' '23/01/2017' '24/01/2017' '25/01/2017'\n",
            " '26/01/2017' '27/01/2017' '28/01/2017' '29/01/2017' '30/01/2017'\n",
            " '31/01/2017' '01/02/2017' '02/02/2017' '03/02/2017' '04/02/2017'\n",
            " '05/02/2017' '06/02/2017' '07/02/2017' '08/02/2017' '09/02/2017'\n",
            " '10/02/2017' '11/02/2017' '12/02/2017' '13/02/2017' '14/02/2017'\n",
            " '15/02/2017' '16/02/2017' '17/02/2017' '18/02/2017' '19/02/2017'\n",
            " '20/02/2017' '21/02/2017' '22/02/2017' '23/02/2017' '24/02/2017'\n",
            " '25/02/2017' '26/02/2017' '27/02/2017' '28/02/2017' '01/03/2017'\n",
            " '02/03/2017' '03/03/2017' '04/03/2017' '05/03/2017' '06/03/2017'\n",
            " '07/03/2017' '08/03/2017' '09/03/2017' '10/03/2017' '11/03/2017'\n",
            " '12/03/2017' '13/03/2017' '14/03/2017' '15/03/2017' '16/03/2017'\n",
            " '17/03/2017' '18/03/2017' '19/03/2017' '20/03/2017' '21/03/2017'\n",
            " '22/03/2017' '23/03/2017' '24/03/2017' '25/03/2017' '26/03/2017'\n",
            " '27/03/2017' '28/03/2017' '29/03/2017' '30/03/2017' '31/03/2017' 'Ukn'\n",
            " 'Ukn' 'Ukn' 'Ukn' 'Ukn' 'Ukn' 'Ukn' 'Ukn' 'Ukn' 'Ukn' 'Ukn' 'Ukn' 'Ukn'\n",
            " 'Ukn' 'Ukn' 'Ukn' 'Ukn' 'Ukn' 'Ukn' 'Ukn' 'Ukn' 'Ukn' 'Ukn' 'Ukn' 'Ukn'\n",
            " 'Ukn' 'Ukn' 'Ukn' 'Ukn' 'Ukn' 'Ukn' 'Ukn' 'Ukn' 'Ukn' 'Ukn' 'Ukn' 'Ukn'\n",
            " 'Ukn' 'Ukn' 'Ukn' 'Ukn' 'Ukn' 'Ukn' 'Ukn' 'Ukn' 'Ukn' 'Ukn' 'Ukn' 'Ukn'\n",
            " 'Ukn' 'Ukn' 'Ukn' 'Ukn' 'Ukn' 'Ukn' 'Ukn' 'Ukn' 'Ukn' 'Ukn' 'Ukn' 'Ukn'\n",
            " 'Ukn' 'Ukn' 'Ukn' 'Ukn' 'Ukn' 'Ukn' 'Ukn' 'Ukn' 'Ukn' 'Ukn' 'Ukn' 'Ukn'\n",
            " 'Ukn' 'Ukn' 'Ukn' 'Ukn' 'Ukn' 'Ukn' 'Ukn' 'Ukn' 'Ukn' 'Ukn' 'Ukn' 'Ukn'\n",
            " 'Ukn' 'Ukn' 'Ukn' 'Ukn' 'Ukn' 'Ukn' 'Ukn' 'Ukn' 'Ukn' 'Ukn' 'Ukn' 'Ukn'\n",
            " 'Ukn' 'Ukn' 'Ukn' 'Ukn' 'Ukn' 'Ukn' 'Ukn' 'Ukn' 'Ukn' 'Ukn' 'Ukn' 'Ukn'\n",
            " 'Ukn' 'Ukn' 'Ukn' 'Ukn' 'Ukn' 'Ukn' 'Ukn' 'Ukn' 'Ukn' 'Ukn' 'Ukn' 'Ukn'\n",
            " 'Ukn' 'Ukn' 'Ukn' 'Ukn' 'Ukn' 'Ukn' 'Ukn' 'Ukn' 'Ukn' 'Ukn' 'Ukn' 'Ukn'\n",
            " 'Ukn' 'Ukn' 'Ukn' 'Ukn' 'Ukn' 'Ukn' 'Ukn' 'Ukn' 'Ukn' 'Ukn' 'Ukn' 'Ukn'\n",
            " 'Ukn' 'Ukn' 'Ukn' 'Ukn' 'Ukn' 'Ukn' 'Ukn' 'Ukn' 'Ukn' 'Ukn' 'Ukn' 'Ukn'\n",
            " 'Ukn' 'Ukn' 'Ukn' 'Ukn' 'Ukn' 'Ukn' 'Ukn' 'Ukn' 'Ukn' 'Ukn' 'Ukn' 'Ukn'\n",
            " 'Ukn' 'Ukn' 'Ukn' 'Ukn' 'Ukn' 'Ukn' 'Ukn' 'Ukn' 'Ukn' 'Ukn' 'Ukn' 'Ukn'\n",
            " 'Ukn' 'Ukn' 'Ukn' 'Ukn' 'Ukn' 'Ukn' 'Ukn' 'Ukn' 'Ukn' 'Ukn' 'Ukn' 'Ukn'\n",
            " 'Ukn' 'Ukn' 'Ukn' 'Ukn' 'Ukn' 'Ukn' 'Ukn' 'Ukn' 'Ukn' 'Ukn' 'Ukn' 'Ukn'\n",
            " 'Ukn' 'Ukn' 'Ukn' 'Ukn' 'Ukn' 'Ukn' 'Ukn' 'Ukn' 'Ukn' 'Ukn' 'Ukn' 'Ukn'\n",
            " 'Ukn' 'Ukn' 'Ukn' 'Ukn' 'Ukn' 'Ukn' 'Ukn' 'Ukn' 'Ukn' 'Ukn' 'Ukn' 'Ukn'\n",
            " 'Ukn' 'Ukn' 'Ukn' 'Ukn' 'Ukn' 'Ukn' 'Ukn' 'Ukn' 'Ukn' 'Ukn' 'Ukn' 'Ukn'\n",
            " 'Ukn' 'Ukn' 'Ukn' 'Ukn' 'Ukn' 'Ukn' 'Ukn' 'Ukn' 'Ukn' 'Ukn' 'Ukn' 'Ukn'\n",
            " 'Ukn' 'Ukn' 'Ukn' 'Ukn' 'Ukn' 'Ukn' 'Ukn' 'Ukn' 'Ukn' 'Ukn' 'Ukn' 'Ukn'\n",
            " 'Ukn' 'Ukn' 'Ukn' 'Ukn' 'Ukn' 'Ukn' 'Ukn' 'Ukn' 'Ukn' 'Ukn' 'Ukn' 'Ukn'\n",
            " 'Ukn' 'Ukn' 'Ukn' 'Ukn' 'Ukn' 'Ukn' 'Ukn' 'Ukn' 'Ukn' 'Ukn' 'Ukn' 'Ukn'\n",
            " 'Ukn' 'Ukn' 'Ukn' 'Ukn' 'Ukn' 'Ukn' 'Ukn' 'Ukn' 'Ukn' 'Ukn' 'Ukn' 'Ukn'\n",
            " 'Ukn' 'Ukn' 'Ukn' 'Ukn' 'Ukn' 'Ukn' 'Ukn' 'Ukn' 'Ukn' 'Ukn' 'Ukn' 'Ukn'\n",
            " 'Ukn' 'Ukn' 'Ukn' 'Ukn' 'Ukn' 'Ukn' 'Ukn' 'Ukn' 'Ukn' 'Ukn' 'Ukn' 'Ukn'\n",
            " 'Ukn' 'Ukn' 'Ukn' 'Ukn' 'Ukn' 'Ukn' 'Ukn' 'Ukn' 'Ukn' 'Ukn' 'Ukn' 'Ukn'\n",
            " 'Ukn' 'Ukn' 'Ukn' 'Ukn' 'Ukn' 'Ukn' 'Ukn' 'Ukn' 'Ukn' 'Ukn' 'Ukn' 'Ukn'\n",
            " 'Ukn' 'Ukn' 'Ukn' 'Ukn' 'Ukn' 'Ukn' 'Ukn' 'Ukn' 'Ukn' 'Ukn' 'Ukn' 'Ukn'\n",
            " 'Ukn' 'Ukn' 'Ukn' 'Ukn']\n",
            "[  1   1   1   1   1   1   1   1   1   1   1   1   1   1   1   1   1   1\n",
            "   1   1   1   1   1   1   1   1   1   1   1   1   1   1   1   1   1   1\n",
            "   1   1   1   1   1   1   1   1   1   1   1   1   1   1   1   1   1   1\n",
            "   1   1   1   1   1   1   1   1   1   1   1   1   1   1   1   1   1   1\n",
            "   1   1   1   1   1   1   1   1   1   1   1   1   1   1   1   1   1   1\n",
            " 365]\n"
          ],
          "name": "stdout"
        }
      ]
    },
    {
      "cell_type": "code",
      "metadata": {
        "id": "2zECzKRrrbMF",
        "colab_type": "code",
        "outputId": "8d2d08d4-1431-411f-f3d7-8cec2cdb7e7b",
        "colab": {
          "base_uri": "https://localhost:8080/",
          "height": 265
        }
      },
      "source": [
        "import matplotlib.pyplot as plt\n",
        "plt.plot(date,a_count,'ro-')\n",
        "\n",
        "plt.show()"
      ],
      "execution_count": 0,
      "outputs": [
        {
          "output_type": "display_data",
          "data": {
            "image/png": "[encoded data removed]",
            "text/plain": [
              "<Figure size 432x288 with 1 Axes>"
            ]
          },
          "metadata": {
            "tags": [],
            "needs_background": "light"
          }
        }
      ]
    }
  ]
}
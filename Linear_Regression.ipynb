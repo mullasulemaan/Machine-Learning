{
  "nbformat": 4,
  "nbformat_minor": 0,
  "metadata": {
    "colab": {
      "name": "Linear_Regression",
      "provenance": [],
      "authorship_tag": "ABX9TyPpFJfB/mQiYl6e8GFr/SrW",
      "include_colab_link": true
    },
    "kernelspec": {
      "name": "python3",
      "display_name": "Python 3"
    },
    "accelerator": "GPU"
  },
  "cells": [
    {
      "cell_type": "markdown",
      "metadata": {
        "id": "view-in-github",
        "colab_type": "text"
      },
      "source": [
        "<a href=\"https://colab.research.google.com/github/mullasulemaan/Machine-Learning/blob/master/Linear_Regression.ipynb\" target=\"_parent\"><img src=\"https://colab.research.google.com/assets/colab-badge.svg\" alt=\"Open In Colab\"/></a>"
      ]
    },
    {
      "cell_type": "code",
      "metadata": {
        "id": "wl2vvG7kyE4m",
        "colab_type": "code",
        "outputId": "097d8b0f-0649-40ec-880d-a35095983934",
        "colab": {
          "base_uri": "https://localhost:8080/",
          "height": 314
        }
      },
      "source": [
        "from google.colab import drive\n",
        "drive.mount('/content/drive',force_remount=True)\n",
        "import numpy as np\n",
        "import matplotlib.pyplot as plt\n",
        "import pandas\n",
        "df=pandas.read_csv('/content/drive/My Drive/Classroom/ML Internship 1/covid-data.csv')\n",
        "x = df['total_cases_per_million'].fillna(value=0)\n",
        "y = df['new_cases_per_million'].fillna(value=0)\n",
        "x_mean = x.mean(axis=0)\n",
        "y_mean = y.mean(axis=0)\n",
        "n = len(x)\n",
        "numerator = 0\n",
        "denominator = 0\n",
        "for i in range(n):\n",
        "  numerator += (x[i] - x_mean) * (y[i] - y_mean)\n",
        "  denominator += (x[i] - x_mean) **2\n",
        "theta_1 = numerator / denominator\n",
        "theta_0 = y_mean - (theta_1 * x_mean)\n",
        "print('theta_1:',theta_1,'theta_0:',theta_0)\n",
        "y = theta_0 + theta_1 * x\n",
        "plt.plot(x, y, color='black')\n",
        "plt.scatter(x, y, color='blue')\n",
        "plt.xlabel('total_cases_per_million')\n",
        "plt.ylabel('new_cases_per_million')\n",
        "plt.show()"
      ],
      "execution_count": 0,
      "outputs": [
        {
          "output_type": "stream",
          "text": [
            "Mounted at /content/drive\n",
            "theta_1: 0.029143278413390778 theta_0: 4.223107238430423\n"
          ],
          "name": "stdout"
        },
        {
          "output_type": "display_data",
          "data": {
            "image/png": "[encoded data removed]",
            "text/plain": [
              "<Figure size 432x288 with 1 Axes>"
            ]
          },
          "metadata": {
            "tags": [],
            "needs_background": "light"
          }
        }
      ]
    }
  ]
}
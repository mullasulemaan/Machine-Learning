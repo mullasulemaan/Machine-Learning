{
  "nbformat": 4,
  "nbformat_minor": 0,
  "metadata": {
    "colab": {
      "name": "Task _2",
      "provenance": [],
      "authorship_tag": "ABX9TyMJh4+2wFquHVHFKRPaxFqI",
      "include_colab_link": true
    },
    "kernelspec": {
      "name": "python3",
      "display_name": "Python 3"
    },
    "accelerator": "GPU"
  },
  "cells": [
    {
      "cell_type": "markdown",
      "metadata": {
        "id": "view-in-github",
        "colab_type": "text"
      },
      "source": [
        "<a href=\"https://colab.research.google.com/github/mullasulemaan/Machine-Learning/blob/master/Task__2.ipynb\" target=\"_parent\"><img src=\"https://colab.research.google.com/assets/colab-badge.svg\" alt=\"Open In Colab\"/></a>"
      ]
    },
    {
      "cell_type": "code",
      "metadata": {
        "id": "Og3uwVvdlj05",
        "colab_type": "code",
        "colab": {
          "base_uri": "https://localhost:8080/",
          "height": 396
        },
        "outputId": "ec43f4e4-5c61-48a6-982b-d2bbc1020ac7"
      },
      "source": [
        "import requests\n",
        "url=\"https://api.openweathermap.org/data/2.5/weather?appid=843697b6fdc3ce411baccb1015372864&q=\"\n",
        "while(1):\n",
        "  city=input(\"city_name:\")\n",
        "  my_url=url+city\n",
        "  data=requests.get(my_url).json()\n",
        "  print(\"the weather report:\\n\\n\",data)"
      ],
      "execution_count": 0,
      "outputs": [
        {
          "output_type": "stream",
          "text": [
            "city_name:kurnool\n",
            "the weather report:\n",
            "\n",
            " {'coord': {'lon': 78.04, 'lat': 15.83}, 'weather': [{'id': 804, 'main': 'Clouds', 'description': 'overcast clouds', 'icon': '04d'}], 'base': 'stations', 'main': {'temp': 303.61, 'feels_like': 301.17, 'temp_min': 303.61, 'temp_max': 303.61, 'pressure': 1008, 'humidity': 51, 'sea_level': 1008, 'grnd_level': 977}, 'wind': {'speed': 8.21, 'deg': 250}, 'clouds': {'all': 100}, 'dt': 1591244494, 'sys': {'country': 'IN', 'sunrise': 1591229739, 'sunset': 1591276622}, 'timezone': 19800, 'id': 1279074, 'name': 'Kurnool', 'cod': 200}\n",
            "city_name:vijayawada\n",
            "the weather report:\n",
            "\n",
            " {'coord': {'lon': 80.62, 'lat': 16.52}, 'weather': [{'id': 802, 'main': 'Clouds', 'description': 'scattered clouds', 'icon': '03d'}], 'base': 'stations', 'main': {'temp': 304.15, 'feels_like': 311.86, 'temp_min': 304.15, 'temp_max': 304.15, 'pressure': 1007, 'humidity': 84}, 'visibility': 6000, 'wind': {'speed': 1, 'deg': 240}, 'clouds': {'all': 40}, 'dt': 1591244769, 'sys': {'type': 1, 'id': 9207, 'country': 'IN', 'sunrise': 1591229044, 'sunset': 1591276079}, 'timezone': 19800, 'id': 1253184, 'name': 'Vijayawada', 'cod': 200}\n",
            "city_name:guntur\n",
            "the weather report:\n",
            "\n",
            " {'coord': {'lon': 80.45, 'lat': 16.3}, 'weather': [{'id': 802, 'main': 'Clouds', 'description': 'scattered clouds', 'icon': '03d'}], 'base': 'stations', 'main': {'temp': 304.15, 'feels_like': 311.86, 'temp_min': 304.15, 'temp_max': 304.15, 'pressure': 1007, 'humidity': 84}, 'visibility': 6000, 'wind': {'speed': 1, 'deg': 240}, 'clouds': {'all': 40}, 'dt': 1591245018, 'sys': {'type': 1, 'id': 9207, 'country': 'IN', 'sunrise': 1591229109, 'sunset': 1591276095}, 'timezone': 19800, 'id': 1270668, 'name': 'Guntur', 'cod': 200}\n",
            "city_name:vizag\n",
            "the weather report:\n",
            "\n",
            " {'cod': '404', 'message': 'city not found'}\n",
            "city_name:Anantapur\n",
            "the weather report:\n",
            "\n",
            " {'coord': {'lon': 77.6, 'lat': 14.68}, 'weather': [{'id': 804, 'main': 'Clouds', 'description': 'overcast clouds', 'icon': '04d'}], 'base': 'stations', 'main': {'temp': 304.03, 'feels_like': 301.96, 'temp_min': 304.03, 'temp_max': 304.03, 'pressure': 1009, 'humidity': 48, 'sea_level': 1009, 'grnd_level': 971}, 'wind': {'speed': 7.31, 'deg': 253}, 'clouds': {'all': 100}, 'dt': 1591245167, 'sys': {'country': 'IN', 'sunrise': 1591229970, 'sunset': 1591276603}, 'timezone': 19800, 'id': 1278672, 'name': 'Anantapur', 'cod': 200}\n"
          ],
          "name": "stdout"
        }
      ]
    }
  ]
}